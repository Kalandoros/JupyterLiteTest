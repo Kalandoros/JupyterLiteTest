HTML("""<html>
<head>
 <title>Get User Location</title>
<style>
body {
    font-family: Arial, sans-serif;
    display: flex;
    flex-direction: column;
    align-items: center;
    justify-content: center;
    height: 100vh;
    margin: 0;
    background-color: #f2f2f2;
}

h3 {
    margin-bottom: 10px;
}

button {
    background-color: #007bff;
    color: white;
    border: none;
    padding: 10px 20px;
    border-radius: 4px;
    cursor: pointer;
    font-size: 16px;
    transition: background-color 0.2s;
}

button:hover {
    background-color: #0056b3;
}

#locationInfo {
    margin-top: 20px;
    font-size: 18px;
    text-align: center;
}
</style>
</head>

<body>

<h3>User getting current location</h3>
<button id="getlocation">Get Location</button>
<p id="locationInfo"></p> <!-- Add a paragraph to display location info -->

<script>
const button = document.getElementById("getlocation");
const locationInfo = document.getElementById("locationInfo"); // Reference to the paragraph

function gotLocation(position) {
    const latitude = position.coords.latitude;
    const longitude = position.coords.longitude;
    locationInfo.innerHTML = `Latitude: ${latitude}<br>Longitude: ${longitude}`;
}

function failedToGet() {
    locationInfo.innerHTML = 'There was some problem.';
}

button.addEventListener('click', async () => {
    navigator.geolocation.getCurrentPosition(gotLocation, failedToGet);
});
</script>

</body>
</html>""") 
